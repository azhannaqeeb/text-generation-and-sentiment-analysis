{
  "nbformat": 4,
  "nbformat_minor": 0,
  "metadata": {
    "colab": {
      "provenance": []
    },
    "kernelspec": {
      "name": "python3",
      "display_name": "Python 3"
    },
    "language_info": {
      "name": "python"
    }
  },
  "cells": [
    {
      "cell_type": "markdown",
      "source": [
        "**Text Generation using Irish songs Dataset**"
      ],
      "metadata": {
        "id": "HSY4dCt8tS41"
      }
    },
    {
      "cell_type": "markdown",
      "source": [
        "The provided code implements a text generation model using a recurrent neural network (RNN) with Long Short-Term Memory (LSTM) units. The model is trained on an Irish Songs dataset to learn the patterns and structure of the lyrics."
      ],
      "metadata": {
        "id": "g8wbVsKJtmlJ"
      }
    },
    {
      "cell_type": "code",
      "execution_count": 1,
      "metadata": {
        "colab": {
          "base_uri": "https://localhost:8080/"
        },
        "id": "LepUJjX2wWKC",
        "outputId": "7ce475d4-83b2-4a00-f754-1c806f605256"
      },
      "outputs": [
        {
          "output_type": "stream",
          "name": "stdout",
          "text": [
            "Requirement already satisfied: tensorflow in /usr/local/lib/python3.10/dist-packages (2.15.0)\n",
            "Requirement already satisfied: numpy in /usr/local/lib/python3.10/dist-packages (1.23.5)\n",
            "Requirement already satisfied: absl-py>=1.0.0 in /usr/local/lib/python3.10/dist-packages (from tensorflow) (1.4.0)\n",
            "Requirement already satisfied: astunparse>=1.6.0 in /usr/local/lib/python3.10/dist-packages (from tensorflow) (1.6.3)\n",
            "Requirement already satisfied: flatbuffers>=23.5.26 in /usr/local/lib/python3.10/dist-packages (from tensorflow) (23.5.26)\n",
            "Requirement already satisfied: gast!=0.5.0,!=0.5.1,!=0.5.2,>=0.2.1 in /usr/local/lib/python3.10/dist-packages (from tensorflow) (0.5.4)\n",
            "Requirement already satisfied: google-pasta>=0.1.1 in /usr/local/lib/python3.10/dist-packages (from tensorflow) (0.2.0)\n",
            "Requirement already satisfied: h5py>=2.9.0 in /usr/local/lib/python3.10/dist-packages (from tensorflow) (3.9.0)\n",
            "Requirement already satisfied: libclang>=13.0.0 in /usr/local/lib/python3.10/dist-packages (from tensorflow) (16.0.6)\n",
            "Requirement already satisfied: ml-dtypes~=0.2.0 in /usr/local/lib/python3.10/dist-packages (from tensorflow) (0.2.0)\n",
            "Requirement already satisfied: opt-einsum>=2.3.2 in /usr/local/lib/python3.10/dist-packages (from tensorflow) (3.3.0)\n",
            "Requirement already satisfied: packaging in /usr/local/lib/python3.10/dist-packages (from tensorflow) (23.2)\n",
            "Requirement already satisfied: protobuf!=4.21.0,!=4.21.1,!=4.21.2,!=4.21.3,!=4.21.4,!=4.21.5,<5.0.0dev,>=3.20.3 in /usr/local/lib/python3.10/dist-packages (from tensorflow) (3.20.3)\n",
            "Requirement already satisfied: setuptools in /usr/local/lib/python3.10/dist-packages (from tensorflow) (67.7.2)\n",
            "Requirement already satisfied: six>=1.12.0 in /usr/local/lib/python3.10/dist-packages (from tensorflow) (1.16.0)\n",
            "Requirement already satisfied: termcolor>=1.1.0 in /usr/local/lib/python3.10/dist-packages (from tensorflow) (2.4.0)\n",
            "Requirement already satisfied: typing-extensions>=3.6.6 in /usr/local/lib/python3.10/dist-packages (from tensorflow) (4.5.0)\n",
            "Requirement already satisfied: wrapt<1.15,>=1.11.0 in /usr/local/lib/python3.10/dist-packages (from tensorflow) (1.14.1)\n",
            "Requirement already satisfied: tensorflow-io-gcs-filesystem>=0.23.1 in /usr/local/lib/python3.10/dist-packages (from tensorflow) (0.34.0)\n",
            "Requirement already satisfied: grpcio<2.0,>=1.24.3 in /usr/local/lib/python3.10/dist-packages (from tensorflow) (1.60.0)\n",
            "Requirement already satisfied: tensorboard<2.16,>=2.15 in /usr/local/lib/python3.10/dist-packages (from tensorflow) (2.15.1)\n",
            "Requirement already satisfied: tensorflow-estimator<2.16,>=2.15.0 in /usr/local/lib/python3.10/dist-packages (from tensorflow) (2.15.0)\n",
            "Requirement already satisfied: keras<2.16,>=2.15.0 in /usr/local/lib/python3.10/dist-packages (from tensorflow) (2.15.0)\n",
            "Requirement already satisfied: wheel<1.0,>=0.23.0 in /usr/local/lib/python3.10/dist-packages (from astunparse>=1.6.0->tensorflow) (0.42.0)\n",
            "Requirement already satisfied: google-auth<3,>=1.6.3 in /usr/local/lib/python3.10/dist-packages (from tensorboard<2.16,>=2.15->tensorflow) (2.17.3)\n",
            "Requirement already satisfied: google-auth-oauthlib<2,>=0.5 in /usr/local/lib/python3.10/dist-packages (from tensorboard<2.16,>=2.15->tensorflow) (1.2.0)\n",
            "Requirement already satisfied: markdown>=2.6.8 in /usr/local/lib/python3.10/dist-packages (from tensorboard<2.16,>=2.15->tensorflow) (3.5.1)\n",
            "Requirement already satisfied: requests<3,>=2.21.0 in /usr/local/lib/python3.10/dist-packages (from tensorboard<2.16,>=2.15->tensorflow) (2.31.0)\n",
            "Requirement already satisfied: tensorboard-data-server<0.8.0,>=0.7.0 in /usr/local/lib/python3.10/dist-packages (from tensorboard<2.16,>=2.15->tensorflow) (0.7.2)\n",
            "Requirement already satisfied: werkzeug>=1.0.1 in /usr/local/lib/python3.10/dist-packages (from tensorboard<2.16,>=2.15->tensorflow) (3.0.1)\n",
            "Requirement already satisfied: cachetools<6.0,>=2.0.0 in /usr/local/lib/python3.10/dist-packages (from google-auth<3,>=1.6.3->tensorboard<2.16,>=2.15->tensorflow) (5.3.2)\n",
            "Requirement already satisfied: pyasn1-modules>=0.2.1 in /usr/local/lib/python3.10/dist-packages (from google-auth<3,>=1.6.3->tensorboard<2.16,>=2.15->tensorflow) (0.3.0)\n",
            "Requirement already satisfied: rsa<5,>=3.1.4 in /usr/local/lib/python3.10/dist-packages (from google-auth<3,>=1.6.3->tensorboard<2.16,>=2.15->tensorflow) (4.9)\n",
            "Requirement already satisfied: requests-oauthlib>=0.7.0 in /usr/local/lib/python3.10/dist-packages (from google-auth-oauthlib<2,>=0.5->tensorboard<2.16,>=2.15->tensorflow) (1.3.1)\n",
            "Requirement already satisfied: charset-normalizer<4,>=2 in /usr/local/lib/python3.10/dist-packages (from requests<3,>=2.21.0->tensorboard<2.16,>=2.15->tensorflow) (3.3.2)\n",
            "Requirement already satisfied: idna<4,>=2.5 in /usr/local/lib/python3.10/dist-packages (from requests<3,>=2.21.0->tensorboard<2.16,>=2.15->tensorflow) (3.6)\n",
            "Requirement already satisfied: urllib3<3,>=1.21.1 in /usr/local/lib/python3.10/dist-packages (from requests<3,>=2.21.0->tensorboard<2.16,>=2.15->tensorflow) (2.0.7)\n",
            "Requirement already satisfied: certifi>=2017.4.17 in /usr/local/lib/python3.10/dist-packages (from requests<3,>=2.21.0->tensorboard<2.16,>=2.15->tensorflow) (2023.11.17)\n",
            "Requirement already satisfied: MarkupSafe>=2.1.1 in /usr/local/lib/python3.10/dist-packages (from werkzeug>=1.0.1->tensorboard<2.16,>=2.15->tensorflow) (2.1.3)\n",
            "Requirement already satisfied: pyasn1<0.6.0,>=0.4.6 in /usr/local/lib/python3.10/dist-packages (from pyasn1-modules>=0.2.1->google-auth<3,>=1.6.3->tensorboard<2.16,>=2.15->tensorflow) (0.5.1)\n",
            "Requirement already satisfied: oauthlib>=3.0.0 in /usr/local/lib/python3.10/dist-packages (from requests-oauthlib>=0.7.0->google-auth-oauthlib<2,>=0.5->tensorboard<2.16,>=2.15->tensorflow) (3.2.2)\n"
          ]
        }
      ],
      "source": [
        "pip install tensorflow numpy"
      ]
    },
    {
      "cell_type": "code",
      "source": [
        "import numpy as np\n",
        "import tensorflow as tf\n",
        "from tensorflow.keras.models import Sequential\n",
        "from tensorflow.keras.layers import Embedding, LSTM, Dense\n",
        "from tensorflow.keras.preprocessing.text import Tokenizer\n",
        "from tensorflow.keras.preprocessing.sequence import pad_sequences"
      ],
      "metadata": {
        "id": "-np3LpmfwaZU"
      },
      "execution_count": 2,
      "outputs": []
    },
    {
      "cell_type": "markdown",
      "source": [
        "**Load and reading the Irish Songs dataset**"
      ],
      "metadata": {
        "id": "mosTcvJuzrL0"
      }
    },
    {
      "cell_type": "code",
      "source": [
        "# Load the Irish Songs dataset\n",
        "url = \"https://storage.googleapis.com/tensorflow-1-public/course3/irish-lyrics-eof.txt\"\n",
        "text = tf.keras.utils.get_file(\"irish-lyrics-eof.txt\", url)\n",
        "\n",
        "# Read the text\n",
        "with open(text, 'r', encoding='utf-8') as f:\n",
        "    corpus = f.read()\n"
      ],
      "metadata": {
        "colab": {
          "base_uri": "https://localhost:8080/"
        },
        "id": "6CAnQAlIzifz",
        "outputId": "80a50504-4b98-405d-8210-b01e2909b118"
      },
      "execution_count": 3,
      "outputs": [
        {
          "output_type": "stream",
          "name": "stdout",
          "text": [
            "Downloading data from https://storage.googleapis.com/tensorflow-1-public/course3/irish-lyrics-eof.txt\n",
            "68970/68970 [==============================] - 0s 0us/step\n"
          ]
        }
      ]
    },
    {
      "cell_type": "markdown",
      "source": [
        "**Tokenization and labelling dataset**"
      ],
      "metadata": {
        "id": "rksSty3lz82Q"
      }
    },
    {
      "cell_type": "code",
      "source": [
        "\n",
        "# Tokenize the text\n",
        "tokenizer = Tokenizer()\n",
        "tokenizer.fit_on_texts([corpus])\n",
        "total_words = len(tokenizer.word_index) + 1\n",
        "\n",
        "# Create input sequences and their corresponding labels\n",
        "input_sequences = []\n",
        "for line in corpus.split('\\n'):\n",
        "    token_list = tokenizer.texts_to_sequences([line])[0]\n",
        "    for i in range(1, len(token_list)):\n",
        "        n_gram_sequence = token_list[:i+1]\n",
        "        input_sequences.append(n_gram_sequence)\n",
        "\n",
        "max_sequence_length = max([len(x) for x in input_sequences])\n",
        "input_sequences = pad_sequences(input_sequences, maxlen=max_sequence_length, padding='pre')\n",
        "\n",
        "X, y = input_sequences[:, :-1], input_sequences[:, -1]\n",
        "y = tf.keras.utils.to_categorical(y, num_classes=total_words)"
      ],
      "metadata": {
        "id": "Bt-3UPU2zos7"
      },
      "execution_count": 4,
      "outputs": []
    },
    {
      "cell_type": "markdown",
      "source": [
        "**Model Architecture and Training**"
      ],
      "metadata": {
        "id": "uEKLM4tXuiAM"
      }
    },
    {
      "cell_type": "code",
      "source": [
        "\n",
        "# Build the model\n",
        "model = Sequential()\n",
        "model.add(Embedding(total_words, 100, input_length=max_sequence_length-1))\n",
        "model.add(LSTM(100))\n",
        "model.add(Dense(total_words, activation='softmax'))\n",
        "\n",
        "model.compile(optimizer='adam', loss='categorical_crossentropy', metrics=['accuracy'])\n",
        "\n",
        "model.summary()\n"
      ],
      "metadata": {
        "id": "UkcmRZKIue5Y",
        "colab": {
          "base_uri": "https://localhost:8080/"
        },
        "outputId": "7f64904f-fef5-47da-f823-12c2c961fd10"
      },
      "execution_count": 6,
      "outputs": [
        {
          "output_type": "stream",
          "name": "stdout",
          "text": [
            "Model: \"sequential\"\n",
            "_________________________________________________________________\n",
            " Layer (type)                Output Shape              Param #   \n",
            "=================================================================\n",
            " embedding (Embedding)       (None, 15, 100)           269000    \n",
            "                                                                 \n",
            " lstm (LSTM)                 (None, 100)               80400     \n",
            "                                                                 \n",
            " dense (Dense)               (None, 2690)              271690    \n",
            "                                                                 \n",
            "=================================================================\n",
            "Total params: 621090 (2.37 MB)\n",
            "Trainable params: 621090 (2.37 MB)\n",
            "Non-trainable params: 0 (0.00 Byte)\n",
            "_________________________________________________________________\n"
          ]
        }
      ]
    },
    {
      "cell_type": "markdown",
      "source": [
        "**Training Model**"
      ],
      "metadata": {
        "id": "L3hc3h8A7Pr8"
      }
    },
    {
      "cell_type": "code",
      "source": [
        "\n",
        "# Train the model\n",
        "model.fit(X, y, epochs=100, verbose=2)\n",
        "\n",
        "# Function to generate text given a seed text and number of next words\n",
        "def generate_text(model, tokenizer, seed_text, next_words, max_sequence_len):\n",
        "    for _ in range(next_words):\n",
        "        token_list = tokenizer.texts_to_sequences([seed_text])[0]\n",
        "        token_list = pad_sequences([token_list], maxlen=max_sequence_len-1, padding='pre')\n",
        "        predicted = np.argmax(model.predict(token_list), axis=-1)\n",
        "        output_word = \"\"\n",
        "        for word, index in tokenizer.word_index.items():\n",
        "            if index == predicted:\n",
        "                output_word = word\n",
        "                break\n",
        "        seed_text += \" \" + output_word\n",
        "    return seed_text\n",
        "\n"
      ],
      "metadata": {
        "colab": {
          "base_uri": "https://localhost:8080/"
        },
        "id": "uKNjQzzD7Odu",
        "outputId": "5b97c8b9-ef52-4c08-86a1-4282b1c3e3cb"
      },
      "execution_count": 7,
      "outputs": [
        {
          "output_type": "stream",
          "name": "stdout",
          "text": [
            "Epoch 1/100\n",
            "377/377 - 7s - loss: 6.7593 - accuracy: 0.0643 - 7s/epoch - 18ms/step\n",
            "Epoch 2/100\n",
            "377/377 - 5s - loss: 6.2979 - accuracy: 0.0707 - 5s/epoch - 15ms/step\n",
            "Epoch 3/100\n",
            "377/377 - 5s - loss: 6.1396 - accuracy: 0.0802 - 5s/epoch - 13ms/step\n",
            "Epoch 4/100\n",
            "377/377 - 6s - loss: 5.9644 - accuracy: 0.0894 - 6s/epoch - 15ms/step\n",
            "Epoch 5/100\n",
            "377/377 - 5s - loss: 5.7612 - accuracy: 0.1028 - 5s/epoch - 13ms/step\n",
            "Epoch 6/100\n",
            "377/377 - 6s - loss: 5.5666 - accuracy: 0.1121 - 6s/epoch - 15ms/step\n",
            "Epoch 7/100\n",
            "377/377 - 5s - loss: 5.3836 - accuracy: 0.1185 - 5s/epoch - 13ms/step\n",
            "Epoch 8/100\n",
            "377/377 - 5s - loss: 5.2101 - accuracy: 0.1264 - 5s/epoch - 15ms/step\n",
            "Epoch 9/100\n",
            "377/377 - 5s - loss: 5.0383 - accuracy: 0.1362 - 5s/epoch - 13ms/step\n",
            "Epoch 10/100\n",
            "377/377 - 5s - loss: 4.8683 - accuracy: 0.1501 - 5s/epoch - 15ms/step\n",
            "Epoch 11/100\n",
            "377/377 - 5s - loss: 4.7026 - accuracy: 0.1605 - 5s/epoch - 13ms/step\n",
            "Epoch 12/100\n",
            "377/377 - 5s - loss: 4.5425 - accuracy: 0.1766 - 5s/epoch - 14ms/step\n",
            "Epoch 13/100\n",
            "377/377 - 5s - loss: 4.3833 - accuracy: 0.1892 - 5s/epoch - 14ms/step\n",
            "Epoch 14/100\n",
            "377/377 - 5s - loss: 4.2264 - accuracy: 0.2076 - 5s/epoch - 13ms/step\n",
            "Epoch 15/100\n",
            "377/377 - 5s - loss: 4.0722 - accuracy: 0.2205 - 5s/epoch - 14ms/step\n",
            "Epoch 16/100\n",
            "377/377 - 5s - loss: 3.9181 - accuracy: 0.2425 - 5s/epoch - 13ms/step\n",
            "Epoch 17/100\n",
            "377/377 - 5s - loss: 3.7656 - accuracy: 0.2631 - 5s/epoch - 14ms/step\n",
            "Epoch 18/100\n",
            "377/377 - 5s - loss: 3.6149 - accuracy: 0.2886 - 5s/epoch - 13ms/step\n",
            "Epoch 19/100\n",
            "377/377 - 5s - loss: 3.4641 - accuracy: 0.3143 - 5s/epoch - 14ms/step\n",
            "Epoch 20/100\n",
            "377/377 - 5s - loss: 3.3190 - accuracy: 0.3413 - 5s/epoch - 13ms/step\n",
            "Epoch 21/100\n",
            "377/377 - 5s - loss: 3.1781 - accuracy: 0.3713 - 5s/epoch - 14ms/step\n",
            "Epoch 22/100\n",
            "377/377 - 5s - loss: 3.0411 - accuracy: 0.3957 - 5s/epoch - 13ms/step\n",
            "Epoch 23/100\n",
            "377/377 - 5s - loss: 2.9090 - accuracy: 0.4214 - 5s/epoch - 13ms/step\n",
            "Epoch 24/100\n",
            "377/377 - 5s - loss: 2.7809 - accuracy: 0.4440 - 5s/epoch - 14ms/step\n",
            "Epoch 25/100\n",
            "377/377 - 5s - loss: 2.6589 - accuracy: 0.4715 - 5s/epoch - 13ms/step\n",
            "Epoch 26/100\n",
            "377/377 - 5s - loss: 2.5471 - accuracy: 0.4929 - 5s/epoch - 14ms/step\n",
            "Epoch 27/100\n",
            "377/377 - 5s - loss: 2.4368 - accuracy: 0.5120 - 5s/epoch - 13ms/step\n",
            "Epoch 28/100\n",
            "377/377 - 5s - loss: 2.3365 - accuracy: 0.5320 - 5s/epoch - 14ms/step\n",
            "Epoch 29/100\n",
            "377/377 - 5s - loss: 2.2411 - accuracy: 0.5503 - 5s/epoch - 13ms/step\n",
            "Epoch 30/100\n",
            "377/377 - 5s - loss: 2.1487 - accuracy: 0.5686 - 5s/epoch - 15ms/step\n",
            "Epoch 31/100\n",
            "377/377 - 5s - loss: 2.0644 - accuracy: 0.5872 - 5s/epoch - 13ms/step\n",
            "Epoch 32/100\n",
            "377/377 - 5s - loss: 1.9839 - accuracy: 0.5987 - 5s/epoch - 14ms/step\n",
            "Epoch 33/100\n",
            "377/377 - 5s - loss: 1.9040 - accuracy: 0.6154 - 5s/epoch - 13ms/step\n",
            "Epoch 34/100\n",
            "377/377 - 5s - loss: 1.8325 - accuracy: 0.6316 - 5s/epoch - 13ms/step\n",
            "Epoch 35/100\n",
            "377/377 - 5s - loss: 1.7599 - accuracy: 0.6422 - 5s/epoch - 14ms/step\n",
            "Epoch 36/100\n",
            "377/377 - 5s - loss: 1.6956 - accuracy: 0.6573 - 5s/epoch - 15ms/step\n",
            "Epoch 37/100\n",
            "377/377 - 6s - loss: 1.6314 - accuracy: 0.6687 - 6s/epoch - 15ms/step\n",
            "Epoch 38/100\n",
            "377/377 - 5s - loss: 1.5712 - accuracy: 0.6817 - 5s/epoch - 13ms/step\n",
            "Epoch 39/100\n",
            "377/377 - 5s - loss: 1.5161 - accuracy: 0.6942 - 5s/epoch - 14ms/step\n",
            "Epoch 40/100\n",
            "377/377 - 5s - loss: 1.4611 - accuracy: 0.7053 - 5s/epoch - 13ms/step\n",
            "Epoch 41/100\n",
            "377/377 - 5s - loss: 1.4109 - accuracy: 0.7151 - 5s/epoch - 15ms/step\n",
            "Epoch 42/100\n",
            "377/377 - 5s - loss: 1.3598 - accuracy: 0.7258 - 5s/epoch - 13ms/step\n",
            "Epoch 43/100\n",
            "377/377 - 5s - loss: 1.3136 - accuracy: 0.7335 - 5s/epoch - 14ms/step\n",
            "Epoch 44/100\n",
            "377/377 - 5s - loss: 1.2690 - accuracy: 0.7430 - 5s/epoch - 13ms/step\n",
            "Epoch 45/100\n",
            "377/377 - 5s - loss: 1.2270 - accuracy: 0.7482 - 5s/epoch - 13ms/step\n",
            "Epoch 46/100\n",
            "377/377 - 5s - loss: 1.1862 - accuracy: 0.7629 - 5s/epoch - 14ms/step\n",
            "Epoch 47/100\n",
            "377/377 - 5s - loss: 1.1471 - accuracy: 0.7651 - 5s/epoch - 13ms/step\n",
            "Epoch 48/100\n",
            "377/377 - 6s - loss: 1.1095 - accuracy: 0.7748 - 6s/epoch - 15ms/step\n",
            "Epoch 49/100\n",
            "377/377 - 5s - loss: 1.0758 - accuracy: 0.7781 - 5s/epoch - 13ms/step\n",
            "Epoch 50/100\n",
            "377/377 - 5s - loss: 1.0436 - accuracy: 0.7856 - 5s/epoch - 14ms/step\n",
            "Epoch 51/100\n",
            "377/377 - 5s - loss: 1.0117 - accuracy: 0.7913 - 5s/epoch - 13ms/step\n",
            "Epoch 52/100\n",
            "377/377 - 5s - loss: 0.9820 - accuracy: 0.7951 - 5s/epoch - 14ms/step\n",
            "Epoch 53/100\n",
            "377/377 - 5s - loss: 0.9531 - accuracy: 0.8005 - 5s/epoch - 13ms/step\n",
            "Epoch 54/100\n",
            "377/377 - 5s - loss: 0.9253 - accuracy: 0.8075 - 5s/epoch - 14ms/step\n",
            "Epoch 55/100\n",
            "377/377 - 5s - loss: 0.9012 - accuracy: 0.8107 - 5s/epoch - 13ms/step\n",
            "Epoch 56/100\n",
            "377/377 - 5s - loss: 0.8750 - accuracy: 0.8164 - 5s/epoch - 14ms/step\n",
            "Epoch 57/100\n",
            "377/377 - 5s - loss: 0.8522 - accuracy: 0.8176 - 5s/epoch - 13ms/step\n",
            "Epoch 58/100\n",
            "377/377 - 5s - loss: 0.8307 - accuracy: 0.8231 - 5s/epoch - 13ms/step\n",
            "Epoch 59/100\n",
            "377/377 - 5s - loss: 0.8120 - accuracy: 0.8237 - 5s/epoch - 14ms/step\n",
            "Epoch 60/100\n",
            "377/377 - 5s - loss: 0.7916 - accuracy: 0.8274 - 5s/epoch - 13ms/step\n",
            "Epoch 61/100\n",
            "377/377 - 5s - loss: 0.7737 - accuracy: 0.8318 - 5s/epoch - 15ms/step\n",
            "Epoch 62/100\n",
            "377/377 - 5s - loss: 0.7567 - accuracy: 0.8328 - 5s/epoch - 13ms/step\n",
            "Epoch 63/100\n",
            "377/377 - 5s - loss: 0.7391 - accuracy: 0.8348 - 5s/epoch - 14ms/step\n",
            "Epoch 64/100\n",
            "377/377 - 5s - loss: 0.7229 - accuracy: 0.8364 - 5s/epoch - 13ms/step\n",
            "Epoch 65/100\n",
            "377/377 - 5s - loss: 0.7088 - accuracy: 0.8386 - 5s/epoch - 14ms/step\n",
            "Epoch 66/100\n",
            "377/377 - 5s - loss: 0.6943 - accuracy: 0.8403 - 5s/epoch - 13ms/step\n",
            "Epoch 67/100\n",
            "377/377 - 5s - loss: 0.6790 - accuracy: 0.8411 - 5s/epoch - 13ms/step\n",
            "Epoch 68/100\n",
            "377/377 - 5s - loss: 0.6662 - accuracy: 0.8443 - 5s/epoch - 14ms/step\n",
            "Epoch 69/100\n",
            "377/377 - 5s - loss: 0.6544 - accuracy: 0.8440 - 5s/epoch - 13ms/step\n",
            "Epoch 70/100\n",
            "377/377 - 5s - loss: 0.6431 - accuracy: 0.8469 - 5s/epoch - 14ms/step\n",
            "Epoch 71/100\n",
            "377/377 - 5s - loss: 0.6334 - accuracy: 0.8481 - 5s/epoch - 13ms/step\n",
            "Epoch 72/100\n",
            "377/377 - 5s - loss: 0.6222 - accuracy: 0.8478 - 5s/epoch - 14ms/step\n",
            "Epoch 73/100\n",
            "377/377 - 5s - loss: 0.6133 - accuracy: 0.8494 - 5s/epoch - 13ms/step\n",
            "Epoch 74/100\n",
            "377/377 - 5s - loss: 0.6046 - accuracy: 0.8511 - 5s/epoch - 14ms/step\n",
            "Epoch 75/100\n",
            "377/377 - 5s - loss: 0.5959 - accuracy: 0.8510 - 5s/epoch - 13ms/step\n",
            "Epoch 76/100\n",
            "377/377 - 5s - loss: 0.5880 - accuracy: 0.8524 - 5s/epoch - 14ms/step\n",
            "Epoch 77/100\n",
            "377/377 - 5s - loss: 0.5800 - accuracy: 0.8516 - 5s/epoch - 13ms/step\n",
            "Epoch 78/100\n",
            "377/377 - 5s - loss: 0.5789 - accuracy: 0.8525 - 5s/epoch - 13ms/step\n",
            "Epoch 79/100\n",
            "377/377 - 5s - loss: 0.5667 - accuracy: 0.8554 - 5s/epoch - 14ms/step\n",
            "Epoch 80/100\n",
            "377/377 - 5s - loss: 0.5586 - accuracy: 0.8532 - 5s/epoch - 13ms/step\n",
            "Epoch 81/100\n",
            "377/377 - 5s - loss: 0.5527 - accuracy: 0.8518 - 5s/epoch - 14ms/step\n",
            "Epoch 82/100\n",
            "377/377 - 5s - loss: 0.5474 - accuracy: 0.8542 - 5s/epoch - 13ms/step\n",
            "Epoch 83/100\n",
            "377/377 - 5s - loss: 0.5434 - accuracy: 0.8546 - 5s/epoch - 14ms/step\n",
            "Epoch 84/100\n",
            "377/377 - 5s - loss: 0.5372 - accuracy: 0.8553 - 5s/epoch - 13ms/step\n",
            "Epoch 85/100\n",
            "377/377 - 5s - loss: 0.5338 - accuracy: 0.8548 - 5s/epoch - 14ms/step\n",
            "Epoch 86/100\n",
            "377/377 - 5s - loss: 0.5303 - accuracy: 0.8564 - 5s/epoch - 13ms/step\n",
            "Epoch 87/100\n",
            "377/377 - 5s - loss: 0.5244 - accuracy: 0.8564 - 5s/epoch - 14ms/step\n",
            "Epoch 88/100\n",
            "377/377 - 5s - loss: 0.5203 - accuracy: 0.8549 - 5s/epoch - 13ms/step\n",
            "Epoch 89/100\n",
            "377/377 - 5s - loss: 0.5145 - accuracy: 0.8561 - 5s/epoch - 13ms/step\n",
            "Epoch 90/100\n",
            "377/377 - 5s - loss: 0.5125 - accuracy: 0.8551 - 5s/epoch - 14ms/step\n",
            "Epoch 91/100\n",
            "377/377 - 5s - loss: 0.5101 - accuracy: 0.8565 - 5s/epoch - 13ms/step\n",
            "Epoch 92/100\n",
            "377/377 - 5s - loss: 0.5057 - accuracy: 0.8563 - 5s/epoch - 14ms/step\n",
            "Epoch 93/100\n",
            "377/377 - 5s - loss: 0.5024 - accuracy: 0.8557 - 5s/epoch - 13ms/step\n",
            "Epoch 94/100\n",
            "377/377 - 5s - loss: 0.4998 - accuracy: 0.8549 - 5s/epoch - 14ms/step\n",
            "Epoch 95/100\n",
            "377/377 - 5s - loss: 0.4972 - accuracy: 0.8572 - 5s/epoch - 13ms/step\n",
            "Epoch 96/100\n",
            "377/377 - 5s - loss: 0.4964 - accuracy: 0.8564 - 5s/epoch - 14ms/step\n",
            "Epoch 97/100\n",
            "377/377 - 5s - loss: 0.4932 - accuracy: 0.8575 - 5s/epoch - 13ms/step\n",
            "Epoch 98/100\n",
            "377/377 - 5s - loss: 0.4903 - accuracy: 0.8560 - 5s/epoch - 13ms/step\n",
            "Epoch 99/100\n",
            "377/377 - 5s - loss: 0.4892 - accuracy: 0.8566 - 5s/epoch - 14ms/step\n",
            "Epoch 100/100\n",
            "377/377 - 5s - loss: 0.4863 - accuracy: 0.8566 - 5s/epoch - 13ms/step\n"
          ]
        }
      ]
    },
    {
      "cell_type": "markdown",
      "source": [
        "**Saving model using keras**"
      ],
      "metadata": {
        "id": "tYNAxP2E7bPr"
      }
    },
    {
      "cell_type": "code",
      "source": [
        "model.save('my_text_genration.keras')\n",
        "model.save(\"text_generation_model.h5\")"
      ],
      "metadata": {
        "id": "j41dZh_C19bz",
        "colab": {
          "base_uri": "https://localhost:8080/"
        },
        "outputId": "021ef91a-d373-43d1-9fdc-35e55a0fc0eb"
      },
      "execution_count": 8,
      "outputs": [
        {
          "output_type": "stream",
          "name": "stderr",
          "text": [
            "/usr/local/lib/python3.10/dist-packages/keras/src/engine/training.py:3103: UserWarning: You are saving your model as an HDF5 file via `model.save()`. This file format is considered legacy. We recommend using instead the native Keras format, e.g. `model.save('my_model.keras')`.\n",
            "  saving_api.save_model(\n"
          ]
        }
      ]
    },
    {
      "cell_type": "markdown",
      "source": [
        "**Text Generation Testing**"
      ],
      "metadata": {
        "id": "I1BPum51u-KY"
      }
    },
    {
      "cell_type": "code",
      "source": [
        "from tensorflow.keras.models import load_model\n",
        "loaded_model = load_model(\"text_generation_model.h5\")\n",
        "\n",
        "# Example usage:\n",
        "seed_text = \"hello\"\n",
        "generated_text = generate_text(loaded_model, tokenizer, seed_text, next_words=50, max_sequence_len=max_sequence_length)\n",
        "print(generated_text)"
      ],
      "metadata": {
        "colab": {
          "base_uri": "https://localhost:8080/"
        },
        "id": "t8kfn02uvPGR",
        "outputId": "0e66aa89-5808-423b-c7a6-7cb4c404a6f5"
      },
      "execution_count": 9,
      "outputs": [
        {
          "output_type": "stream",
          "name": "stdout",
          "text": [
            "1/1 [==============================] - 0s 318ms/step\n",
            "1/1 [==============================] - 0s 18ms/step\n",
            "1/1 [==============================] - 0s 17ms/step\n",
            "1/1 [==============================] - 0s 15ms/step\n",
            "1/1 [==============================] - 0s 19ms/step\n",
            "1/1 [==============================] - 0s 16ms/step\n",
            "1/1 [==============================] - 0s 20ms/step\n",
            "1/1 [==============================] - 0s 16ms/step\n",
            "1/1 [==============================] - 0s 15ms/step\n",
            "1/1 [==============================] - 0s 16ms/step\n",
            "1/1 [==============================] - 0s 25ms/step\n",
            "1/1 [==============================] - 0s 15ms/step\n",
            "1/1 [==============================] - 0s 14ms/step\n",
            "1/1 [==============================] - 0s 15ms/step\n",
            "1/1 [==============================] - 0s 15ms/step\n",
            "1/1 [==============================] - 0s 17ms/step\n",
            "1/1 [==============================] - 0s 18ms/step\n",
            "1/1 [==============================] - 0s 16ms/step\n",
            "1/1 [==============================] - 0s 16ms/step\n",
            "1/1 [==============================] - 0s 17ms/step\n",
            "1/1 [==============================] - 0s 15ms/step\n",
            "1/1 [==============================] - 0s 24ms/step\n",
            "1/1 [==============================] - 0s 26ms/step\n",
            "1/1 [==============================] - 0s 20ms/step\n",
            "1/1 [==============================] - 0s 23ms/step\n",
            "1/1 [==============================] - 0s 22ms/step\n",
            "1/1 [==============================] - 0s 21ms/step\n",
            "1/1 [==============================] - 0s 21ms/step\n",
            "1/1 [==============================] - 0s 20ms/step\n",
            "1/1 [==============================] - 0s 24ms/step\n",
            "1/1 [==============================] - 0s 25ms/step\n",
            "1/1 [==============================] - 0s 22ms/step\n",
            "1/1 [==============================] - 0s 21ms/step\n",
            "1/1 [==============================] - 0s 27ms/step\n",
            "1/1 [==============================] - 0s 28ms/step\n",
            "1/1 [==============================] - 0s 24ms/step\n",
            "1/1 [==============================] - 0s 28ms/step\n",
            "1/1 [==============================] - 0s 25ms/step\n",
            "1/1 [==============================] - 0s 24ms/step\n",
            "1/1 [==============================] - 0s 15ms/step\n",
            "1/1 [==============================] - 0s 15ms/step\n",
            "1/1 [==============================] - 0s 15ms/step\n",
            "1/1 [==============================] - 0s 16ms/step\n",
            "1/1 [==============================] - 0s 15ms/step\n",
            "1/1 [==============================] - 0s 16ms/step\n",
            "1/1 [==============================] - 0s 15ms/step\n",
            "1/1 [==============================] - 0s 16ms/step\n",
            "1/1 [==============================] - 0s 17ms/step\n",
            "1/1 [==============================] - 0s 18ms/step\n",
            "1/1 [==============================] - 0s 15ms/step\n",
            "hello and lower and lower the reel rings the child i was said was my gas and the pure sad sad tore side hand face field good door loved smoke smoke smoke smoke moaning tomorrow thoughts open write smoke smoke smoke smoke smoke smoke smoke moaning smoke moaning smoke moaning smoke\n"
          ]
        }
      ]
    }
  ]
}